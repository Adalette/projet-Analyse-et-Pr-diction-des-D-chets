{
  "cells": [
    {
      "cell_type": "markdown",
      "source": [],
      "metadata": {
        "id": "bcrisEv8FJ-u"
      }
    },
    {
      "cell_type": "code",
      "execution_count": null,
      "metadata": {
        "colab": {
          "base_uri": "https://localhost:8080/"
        },
        "id": "aZlbJajemw-4",
        "outputId": "11270028-f294-4b61-e368-6cc18b873d95"
      },
      "outputs": [
        {
          "output_type": "stream",
          "name": "stdout",
          "text": [
            "Requirement already satisfied: pyspark in /usr/local/lib/python3.10/dist-packages (3.5.3)\n",
            "Requirement already satisfied: py4j==0.10.9.7 in /usr/local/lib/python3.10/dist-packages (from pyspark) (0.10.9.7)\n"
          ]
        }
      ],
      "source": [
        "!pip install pyspark"
      ]
    },
    {
      "cell_type": "code",
      "execution_count": null,
      "metadata": {
        "id": "O-LsZdz9ubDF"
      },
      "outputs": [],
      "source": [
        "from pyspark.sql import SparkSession\n",
        "spark=SparkSession.builder \\\n",
        "    .appName(\"plastic_product\") \\\n",
        "    .getOrCreate()"
      ]
    },
    {
      "cell_type": "code",
      "execution_count": null,
      "metadata": {
        "colab": {
          "base_uri": "https://localhost:8080/",
          "height": 74
        },
        "id": "JbKAe0CEvIQ_",
        "outputId": "84465b25-90eb-43d7-ad51-668bb6ddd536"
      },
      "outputs": [
        {
          "output_type": "display_data",
          "data": {
            "text/plain": [
              "<IPython.core.display.HTML object>"
            ],
            "text/html": [
              "\n",
              "     <input type=\"file\" id=\"files-0210ce96-4010-45c2-8759-1b40e7ee1d03\" name=\"files[]\" multiple disabled\n",
              "        style=\"border:none\" />\n",
              "     <output id=\"result-0210ce96-4010-45c2-8759-1b40e7ee1d03\">\n",
              "      Upload widget is only available when the cell has been executed in the\n",
              "      current browser session. Please rerun this cell to enable.\n",
              "      </output>\n",
              "      <script>// Copyright 2017 Google LLC\n",
              "//\n",
              "// Licensed under the Apache License, Version 2.0 (the \"License\");\n",
              "// you may not use this file except in compliance with the License.\n",
              "// You may obtain a copy of the License at\n",
              "//\n",
              "//      http://www.apache.org/licenses/LICENSE-2.0\n",
              "//\n",
              "// Unless required by applicable law or agreed to in writing, software\n",
              "// distributed under the License is distributed on an \"AS IS\" BASIS,\n",
              "// WITHOUT WARRANTIES OR CONDITIONS OF ANY KIND, either express or implied.\n",
              "// See the License for the specific language governing permissions and\n",
              "// limitations under the License.\n",
              "\n",
              "/**\n",
              " * @fileoverview Helpers for google.colab Python module.\n",
              " */\n",
              "(function(scope) {\n",
              "function span(text, styleAttributes = {}) {\n",
              "  const element = document.createElement('span');\n",
              "  element.textContent = text;\n",
              "  for (const key of Object.keys(styleAttributes)) {\n",
              "    element.style[key] = styleAttributes[key];\n",
              "  }\n",
              "  return element;\n",
              "}\n",
              "\n",
              "// Max number of bytes which will be uploaded at a time.\n",
              "const MAX_PAYLOAD_SIZE = 100 * 1024;\n",
              "\n",
              "function _uploadFiles(inputId, outputId) {\n",
              "  const steps = uploadFilesStep(inputId, outputId);\n",
              "  const outputElement = document.getElementById(outputId);\n",
              "  // Cache steps on the outputElement to make it available for the next call\n",
              "  // to uploadFilesContinue from Python.\n",
              "  outputElement.steps = steps;\n",
              "\n",
              "  return _uploadFilesContinue(outputId);\n",
              "}\n",
              "\n",
              "// This is roughly an async generator (not supported in the browser yet),\n",
              "// where there are multiple asynchronous steps and the Python side is going\n",
              "// to poll for completion of each step.\n",
              "// This uses a Promise to block the python side on completion of each step,\n",
              "// then passes the result of the previous step as the input to the next step.\n",
              "function _uploadFilesContinue(outputId) {\n",
              "  const outputElement = document.getElementById(outputId);\n",
              "  const steps = outputElement.steps;\n",
              "\n",
              "  const next = steps.next(outputElement.lastPromiseValue);\n",
              "  return Promise.resolve(next.value.promise).then((value) => {\n",
              "    // Cache the last promise value to make it available to the next\n",
              "    // step of the generator.\n",
              "    outputElement.lastPromiseValue = value;\n",
              "    return next.value.response;\n",
              "  });\n",
              "}\n",
              "\n",
              "/**\n",
              " * Generator function which is called between each async step of the upload\n",
              " * process.\n",
              " * @param {string} inputId Element ID of the input file picker element.\n",
              " * @param {string} outputId Element ID of the output display.\n",
              " * @return {!Iterable<!Object>} Iterable of next steps.\n",
              " */\n",
              "function* uploadFilesStep(inputId, outputId) {\n",
              "  const inputElement = document.getElementById(inputId);\n",
              "  inputElement.disabled = false;\n",
              "\n",
              "  const outputElement = document.getElementById(outputId);\n",
              "  outputElement.innerHTML = '';\n",
              "\n",
              "  const pickedPromise = new Promise((resolve) => {\n",
              "    inputElement.addEventListener('change', (e) => {\n",
              "      resolve(e.target.files);\n",
              "    });\n",
              "  });\n",
              "\n",
              "  const cancel = document.createElement('button');\n",
              "  inputElement.parentElement.appendChild(cancel);\n",
              "  cancel.textContent = 'Cancel upload';\n",
              "  const cancelPromise = new Promise((resolve) => {\n",
              "    cancel.onclick = () => {\n",
              "      resolve(null);\n",
              "    };\n",
              "  });\n",
              "\n",
              "  // Wait for the user to pick the files.\n",
              "  const files = yield {\n",
              "    promise: Promise.race([pickedPromise, cancelPromise]),\n",
              "    response: {\n",
              "      action: 'starting',\n",
              "    }\n",
              "  };\n",
              "\n",
              "  cancel.remove();\n",
              "\n",
              "  // Disable the input element since further picks are not allowed.\n",
              "  inputElement.disabled = true;\n",
              "\n",
              "  if (!files) {\n",
              "    return {\n",
              "      response: {\n",
              "        action: 'complete',\n",
              "      }\n",
              "    };\n",
              "  }\n",
              "\n",
              "  for (const file of files) {\n",
              "    const li = document.createElement('li');\n",
              "    li.append(span(file.name, {fontWeight: 'bold'}));\n",
              "    li.append(span(\n",
              "        `(${file.type || 'n/a'}) - ${file.size} bytes, ` +\n",
              "        `last modified: ${\n",
              "            file.lastModifiedDate ? file.lastModifiedDate.toLocaleDateString() :\n",
              "                                    'n/a'} - `));\n",
              "    const percent = span('0% done');\n",
              "    li.appendChild(percent);\n",
              "\n",
              "    outputElement.appendChild(li);\n",
              "\n",
              "    const fileDataPromise = new Promise((resolve) => {\n",
              "      const reader = new FileReader();\n",
              "      reader.onload = (e) => {\n",
              "        resolve(e.target.result);\n",
              "      };\n",
              "      reader.readAsArrayBuffer(file);\n",
              "    });\n",
              "    // Wait for the data to be ready.\n",
              "    let fileData = yield {\n",
              "      promise: fileDataPromise,\n",
              "      response: {\n",
              "        action: 'continue',\n",
              "      }\n",
              "    };\n",
              "\n",
              "    // Use a chunked sending to avoid message size limits. See b/62115660.\n",
              "    let position = 0;\n",
              "    do {\n",
              "      const length = Math.min(fileData.byteLength - position, MAX_PAYLOAD_SIZE);\n",
              "      const chunk = new Uint8Array(fileData, position, length);\n",
              "      position += length;\n",
              "\n",
              "      const base64 = btoa(String.fromCharCode.apply(null, chunk));\n",
              "      yield {\n",
              "        response: {\n",
              "          action: 'append',\n",
              "          file: file.name,\n",
              "          data: base64,\n",
              "        },\n",
              "      };\n",
              "\n",
              "      let percentDone = fileData.byteLength === 0 ?\n",
              "          100 :\n",
              "          Math.round((position / fileData.byteLength) * 100);\n",
              "      percent.textContent = `${percentDone}% done`;\n",
              "\n",
              "    } while (position < fileData.byteLength);\n",
              "  }\n",
              "\n",
              "  // All done.\n",
              "  yield {\n",
              "    response: {\n",
              "      action: 'complete',\n",
              "    }\n",
              "  };\n",
              "}\n",
              "\n",
              "scope.google = scope.google || {};\n",
              "scope.google.colab = scope.google.colab || {};\n",
              "scope.google.colab._files = {\n",
              "  _uploadFiles,\n",
              "  _uploadFilesContinue,\n",
              "};\n",
              "})(self);\n",
              "</script> "
            ]
          },
          "metadata": {}
        },
        {
          "output_type": "stream",
          "name": "stdout",
          "text": [
            "Saving trashwheel.csv to trashwheel.csv\n"
          ]
        }
      ],
      "source": [
        "from google.colab import files\n",
        "uploaded = files.upload()"
      ]
    },
    {
      "cell_type": "code",
      "execution_count": null,
      "metadata": {
        "colab": {
          "base_uri": "https://localhost:8080/"
        },
        "id": "n6mfaHMHwXB7",
        "outputId": "0a39c1c2-822f-420c-fed4-ef75ab611b66"
      },
      "outputs": [
        {
          "output_type": "stream",
          "name": "stdout",
          "text": [
            "+---------------------------------------------------------------------------------------------------------------------------------------------------+\n",
            "|ID,Name,Dumpster,Month,Year,Date,Weight,Volume,PlasticBottles,Polystyrene,CigaretteButts,GlassBottles,PlasticBags,Wrappers,SportsBalls,HomesPowered|\n",
            "+---------------------------------------------------------------------------------------------------------------------------------------------------+\n",
            "|                                                                                                                               mister,Mister Tra...|\n",
            "|                                                                                                                               mister,Mister Tra...|\n",
            "|                                                                                                                               mister,Mister Tra...|\n",
            "|                                                                                                                               mister,Mister Tra...|\n",
            "|                                                                                                                               mister,Mister Tra...|\n",
            "|                                                                                                                               mister,Mister Tra...|\n",
            "|                                                                                                                               mister,Mister Tra...|\n",
            "|                                                                                                                               mister,Mister Tra...|\n",
            "|                                                                                                                               mister,Mister Tra...|\n",
            "|                                                                                                                               mister,Mister Tra...|\n",
            "|                                                                                                                               mister,Mister Tra...|\n",
            "|                                                                                                                               mister,Mister Tra...|\n",
            "|                                                                                                                               mister,Mister Tra...|\n",
            "|                                                                                                                               mister,Mister Tra...|\n",
            "|                                                                                                                               mister,Mister Tra...|\n",
            "|                                                                                                                               mister,Mister Tra...|\n",
            "|                                                                                                                               mister,Mister Tra...|\n",
            "|                                                                                                                               mister,Mister Tra...|\n",
            "|                                                                                                                               mister,Mister Tra...|\n",
            "|                                                                                                                               mister,Mister Tra...|\n",
            "+---------------------------------------------------------------------------------------------------------------------------------------------------+\n",
            "only showing top 20 rows\n",
            "\n"
          ]
        }
      ],
      "source": [
        "data = spark.read.csv(\"/content/trashwheel.csv\", header=True, inferSchema=True, sep=\";\")\n",
        "data.show()\n"
      ]
    },
    {
      "cell_type": "code",
      "execution_count": null,
      "metadata": {
        "colab": {
          "base_uri": "https://localhost:8080/"
        },
        "id": "dp2IApjJw0gQ",
        "outputId": "ff24e3b8-cec4-4e5b-a3c1-bcc7e6699f90"
      },
      "outputs": [
        {
          "output_type": "stream",
          "name": "stdout",
          "text": [
            "+---------------------------------------------------------------------------------------------------------------------------------------------------+\n",
            "|ID,Name,Dumpster,Month,Year,Date,Weight,Volume,PlasticBottles,Polystyrene,CigaretteButts,GlassBottles,PlasticBags,Wrappers,SportsBalls,HomesPowered|\n",
            "+---------------------------------------------------------------------------------------------------------------------------------------------------+\n",
            "|                                                                                                                               mister,Mister Tra...|\n",
            "|                                                                                                                               mister,Mister Tra...|\n",
            "|                                                                                                                               mister,Mister Tra...|\n",
            "|                                                                                                                               mister,Mister Tra...|\n",
            "|                                                                                                                               mister,Mister Tra...|\n",
            "+---------------------------------------------------------------------------------------------------------------------------------------------------+\n",
            "only showing top 5 rows\n",
            "\n"
          ]
        }
      ],
      "source": [
        "from pyspark.sql import SparkSession\n",
        "\n",
        "# Initialisation de Spark\n",
        "spark = SparkSession.builder.appName(\"CheckColumns\").getOrCreate()\n",
        "\n",
        "# Charger le fichier (mettez ici le chemin correct)\n",
        "data = spark.read.csv(\"/content/trashwheel.csv\", header=True, inferSchema=True, sep=\";\")\n",
        "\n",
        "# Aperçu des données (premières lignes)\n",
        "data.show(5)\n"
      ]
    },
    {
      "cell_type": "code",
      "execution_count": null,
      "metadata": {
        "colab": {
          "base_uri": "https://localhost:8080/"
        },
        "id": "_v6ORGG2xOlB",
        "outputId": "ce79e1ca-53af-465a-8b8f-ddc87aac9a77"
      },
      "outputs": [
        {
          "output_type": "stream",
          "name": "stdout",
          "text": [
            "['ID,Name,Dumpster,Month,Year,Date,Weight,Volume,PlasticBottles,Polystyrene,CigaretteButts,GlassBottles,PlasticBags,Wrappers,SportsBalls,HomesPowered']\n"
          ]
        }
      ],
      "source": [
        "print(data.columns)\n"
      ]
    },
    {
      "cell_type": "code",
      "execution_count": null,
      "metadata": {
        "colab": {
          "base_uri": "https://localhost:8080/"
        },
        "id": "qd7l-sH2xbeT",
        "outputId": "7bf039f6-0e49-471c-fddd-dc6326d7db26"
      },
      "outputs": [
        {
          "name": "stdout",
          "output_type": "stream",
          "text": [
            "root\n",
            " |-- ID,Name,Dumpster,Month,Year,Date,Weight,Volume,PlasticBottles,Polystyrene,CigaretteButts,GlassBottles,PlasticBags,Wrappers,SportsBalls,HomesPowered: string (nullable = true)\n",
            "\n"
          ]
        }
      ],
      "source": [
        "data.printSchema()\n"
      ]
    },
    {
      "cell_type": "code",
      "execution_count": null,
      "metadata": {
        "colab": {
          "base_uri": "https://localhost:8080/"
        },
        "id": "KTT4nvG5xl9-",
        "outputId": "9a91a70c-4c8a-4f46-bb9e-ab3992f5d01a"
      },
      "outputs": [
        {
          "output_type": "stream",
          "name": "stdout",
          "text": [
            "+---------------------------------------------------------------------------------------------------------------------------------------------------+\n",
            "|ID,Name,Dumpster,Month,Year,Date,Weight,Volume,PlasticBottles,Polystyrene,CigaretteButts,GlassBottles,PlasticBags,Wrappers,SportsBalls,HomesPowered|\n",
            "+---------------------------------------------------------------------------------------------------------------------------------------------------+\n",
            "|                                                                                                                                              false|\n",
            "|                                                                                                                                              false|\n",
            "|                                                                                                                                              false|\n",
            "|                                                                                                                                              false|\n",
            "|                                                                                                                                              false|\n",
            "|                                                                                                                                              false|\n",
            "|                                                                                                                                              false|\n",
            "|                                                                                                                                              false|\n",
            "|                                                                                                                                              false|\n",
            "|                                                                                                                                              false|\n",
            "|                                                                                                                                              false|\n",
            "|                                                                                                                                              false|\n",
            "|                                                                                                                                              false|\n",
            "|                                                                                                                                              false|\n",
            "|                                                                                                                                              false|\n",
            "|                                                                                                                                              false|\n",
            "|                                                                                                                                              false|\n",
            "|                                                                                                                                              false|\n",
            "|                                                                                                                                              false|\n",
            "|                                                                                                                                              false|\n",
            "+---------------------------------------------------------------------------------------------------------------------------------------------------+\n",
            "only showing top 20 rows\n",
            "\n"
          ]
        }
      ],
      "source": [
        "from pyspark.sql.functions import col, isnan\n",
        "\n",
        "data.select(\n",
        "    [col(column).isNull().alias(column) for column in data.columns]\n",
        ").show()\n"
      ]
    },
    {
      "cell_type": "code",
      "execution_count": null,
      "metadata": {
        "colab": {
          "base_uri": "https://localhost:8080/"
        },
        "id": "DWiOSmMFyh1i",
        "outputId": "d243986a-4da0-4b1c-f5e8-68ae1ef4053d"
      },
      "outputs": [
        {
          "output_type": "stream",
          "name": "stdout",
          "text": [
            "+---------------------------------------------------------------------------------------------------------------------------------------------------+\n",
            "|ID,Name,Dumpster,Month,Year,Date,Weight,Volume,PlasticBottles,Polystyrene,CigaretteButts,GlassBottles,PlasticBags,Wrappers,SportsBalls,HomesPowered|\n",
            "+---------------------------------------------------------------------------------------------------------------------------------------------------+\n",
            "|                                                                                                                                                  0|\n",
            "+---------------------------------------------------------------------------------------------------------------------------------------------------+\n",
            "\n"
          ]
        }
      ],
      "source": [
        "from pyspark.sql.functions import count, when, col\n",
        "\n",
        "data.select([count(when(col(c).isNull(), c)).alias(c) for c in data.columns]).show()\n",
        "\n"
      ]
    },
    {
      "cell_type": "code",
      "execution_count": null,
      "metadata": {
        "colab": {
          "base_uri": "https://localhost:8080/"
        },
        "id": "QugMpEBUxvhR",
        "outputId": "3193e55c-67fb-4787-85ce-3109a2ddf682"
      },
      "outputs": [
        {
          "output_type": "stream",
          "name": "stdout",
          "text": [
            "['ID,Name,Dumpster,Month,Year,Date,Weight,Volume,PlasticBottles,Polystyrene,CigaretteButts,GlassBottles,PlasticBags,Wrappers,SportsBalls,HomesPowered']\n"
          ]
        }
      ],
      "source": [
        "print(data.columns)"
      ]
    },
    {
      "cell_type": "code",
      "execution_count": null,
      "metadata": {
        "colab": {
          "base_uri": "https://localhost:8080/"
        },
        "id": "jNzt2SWWxvsC",
        "outputId": "49105253-c976-42cc-ec49-8f52afe69568"
      },
      "outputs": [
        {
          "name": "stdout",
          "output_type": "stream",
          "text": [
            "['ID,Name,Dumpster,Month,Year,Date,Weight,Volume,PlasticBottles,Polystyrene,CigaretteButts,GlassBottles,PlasticBags,Wrappers,SportsBalls,HomesPowered']\n"
          ]
        }
      ],
      "source": [
        "data=data.toDF(*[col.strip().replace(' ','_')for col in data.columns])\n",
        "print(data.columns)"
      ]
    },
    {
      "cell_type": "code",
      "execution_count": null,
      "metadata": {
        "colab": {
          "base_uri": "https://localhost:8080/"
        },
        "id": "60ZUXs3ozqzr",
        "outputId": "75e5efd7-c7fe-4c28-8718-44a6a44968cd"
      },
      "outputs": [
        {
          "name": "stdout",
          "output_type": "stream",
          "text": [
            "+--------------------+-------+-------+\n",
            "|             column1|column2|column3|\n",
            "+--------------------+-------+-------+\n",
            "|ID,Name,Dumpster,...|   NULL|   NULL|\n",
            "|mister,Mister Tra...|   NULL|   NULL|\n",
            "|mister,Mister Tra...|   NULL|   NULL|\n",
            "|mister,Mister Tra...|   NULL|   NULL|\n",
            "|mister,Mister Tra...|   NULL|   NULL|\n",
            "|mister,Mister Tra...|   NULL|   NULL|\n",
            "|mister,Mister Tra...|   NULL|   NULL|\n",
            "|mister,Mister Tra...|   NULL|   NULL|\n",
            "|mister,Mister Tra...|   NULL|   NULL|\n",
            "|mister,Mister Tra...|   NULL|   NULL|\n",
            "|mister,Mister Tra...|   NULL|   NULL|\n",
            "|mister,Mister Tra...|   NULL|   NULL|\n",
            "|mister,Mister Tra...|   NULL|   NULL|\n",
            "|mister,Mister Tra...|   NULL|   NULL|\n",
            "|mister,Mister Tra...|   NULL|   NULL|\n",
            "|mister,Mister Tra...|   NULL|   NULL|\n",
            "|mister,Mister Tra...|   NULL|   NULL|\n",
            "|mister,Mister Tra...|   NULL|   NULL|\n",
            "|mister,Mister Tra...|   NULL|   NULL|\n",
            "|mister,Mister Tra...|   NULL|   NULL|\n",
            "+--------------------+-------+-------+\n",
            "only showing top 20 rows\n",
            "\n"
          ]
        }
      ],
      "source": [
        "raw_data = spark.read.text(\"/content/trashwheel.csv\")\n",
        "\n",
        "# Exemple : Séparer les colonnes avec un délimiteur `;`\n",
        "from pyspark.sql.functions import split\n",
        "\n",
        "data = raw_data.select(split(raw_data['value'], \";\").alias('columns'))\n",
        "\n",
        "# Décomposer en colonnes\n",
        "data = data.selectExpr(\n",
        "    \"columns[0] as column1\", \"columns[1] as column2\", \"columns[2] as column3\"\n",
        ")\n",
        "\n",
        "data.show()\n"
      ]
    },
    {
      "cell_type": "code",
      "execution_count": null,
      "metadata": {
        "colab": {
          "base_uri": "https://localhost:8080/"
        },
        "id": "OraSybPe1Ovf",
        "outputId": "de614bfa-d742-4019-d80d-8f430fb6848a"
      },
      "outputs": [
        {
          "output_type": "stream",
          "name": "stdout",
          "text": [
            "+------+------------------+--------+-----+----+---------+------------------+------+--------------+-----------+--------------+------------+-----------+--------+-----------+------------+\n",
            "|    ID|              Name|Dumpster|Month|Year|     Date|            Weight|Volume|PlasticBottles|Polystyrene|CigaretteButts|GlassBottles|PlasticBags|Wrappers|SportsBalls|HomesPowered|\n",
            "+------+------------------+--------+-----+----+---------+------------------+------+--------------+-----------+--------------+------------+-----------+--------+-----------+------------+\n",
            "|mister|Mister Trash Wheel|       1|  May|2014|5/16/2014|              4.31|    18|          1450|       1820|        126000|          72|        584|    1162|          7|           0|\n",
            "|mister|Mister Trash Wheel|       2|  May|2014|5/16/2014|              2.74|    13|          1120|       1030|         91000|          42|        496|     874|          5|           0|\n",
            "|mister|Mister Trash Wheel|       3|  May|2014|5/16/2014|3.4499999999999997|    15|          2450|       3100|        105000|          50|       1080|    2032|          6|           0|\n",
            "|mister|Mister Trash Wheel|       4|  May|2014|5/17/2014|               3.1|    15|          2380|       2730|        100000|          52|        896|    1971|          6|           0|\n",
            "|mister|Mister Trash Wheel|       5|  May|2014|5/17/2014|              4.06|    18|           980|        870|        120000|          72|        368|     753|          7|           0|\n",
            "+------+------------------+--------+-----+----+---------+------------------+------+--------------+-----------+--------------+------------+-----------+--------+-----------+------------+\n",
            "only showing top 5 rows\n",
            "\n"
          ]
        }
      ],
      "source": [
        "data = spark.read.csv(\"/content/trashwheel.csv\", header=True, inferSchema=True, sep=\",\")\n",
        "data.show(5)\n"
      ]
    },
    {
      "cell_type": "code",
      "execution_count": null,
      "metadata": {
        "colab": {
          "base_uri": "https://localhost:8080/"
        },
        "id": "usIY44Nd2KzI",
        "outputId": "6a12d0e3-60a5-4b2a-c55b-4c0ea2edcdcc"
      },
      "outputs": [
        {
          "output_type": "stream",
          "name": "stdout",
          "text": [
            "root\n",
            " |-- ID: string (nullable = true)\n",
            " |-- Name: string (nullable = true)\n",
            " |-- Dumpster: integer (nullable = true)\n",
            " |-- Month: string (nullable = true)\n",
            " |-- Year: integer (nullable = true)\n",
            " |-- Date: string (nullable = true)\n",
            " |-- Weight: double (nullable = true)\n",
            " |-- Volume: integer (nullable = true)\n",
            " |-- PlasticBottles: string (nullable = true)\n",
            " |-- Polystyrene: string (nullable = true)\n",
            " |-- CigaretteButts: string (nullable = true)\n",
            " |-- GlassBottles: string (nullable = true)\n",
            " |-- PlasticBags: string (nullable = true)\n",
            " |-- Wrappers: string (nullable = true)\n",
            " |-- SportsBalls: string (nullable = true)\n",
            " |-- HomesPowered: integer (nullable = true)\n",
            "\n"
          ]
        }
      ],
      "source": [
        "data.printSchema()\n"
      ]
    },
    {
      "cell_type": "code",
      "execution_count": null,
      "metadata": {
        "colab": {
          "base_uri": "https://localhost:8080/"
        },
        "id": "UmRP4W7q2M3s",
        "outputId": "0f71e251-2b2e-428d-e178-920060428d28"
      },
      "outputs": [
        {
          "output_type": "stream",
          "name": "stdout",
          "text": [
            "+-----------------+\n",
            "|      avg(Weight)|\n",
            "+-----------------+\n",
            "|2.966122860020137|\n",
            "+-----------------+\n",
            "\n"
          ]
        }
      ],
      "source": [
        "data.select('Weight').groupBy().avg().show()\n"
      ]
    },
    {
      "cell_type": "code",
      "execution_count": null,
      "metadata": {
        "colab": {
          "base_uri": "https://localhost:8080/"
        },
        "id": "ocIQ9zg_2QDy",
        "outputId": "e84d13c8-1e49-4d32-a08f-c8f9227cc865"
      },
      "outputs": [
        {
          "output_type": "stream",
          "name": "stdout",
          "text": [
            "+------+------------------+--------+-----+----+---------+------------------+------+--------------+-----------+--------------+------------+-----------+--------+-----------+------------+\n",
            "|    ID|              Name|Dumpster|Month|Year|     Date|            Weight|Volume|PlasticBottles|Polystyrene|CigaretteButts|GlassBottles|PlasticBags|Wrappers|SportsBalls|HomesPowered|\n",
            "+------+------------------+--------+-----+----+---------+------------------+------+--------------+-----------+--------------+------------+-----------+--------+-----------+------------+\n",
            "|mister|Mister Trash Wheel|       1|  May|2014|5/16/2014|              4.31|    18|          1450|       1820|        126000|          72|        584|    1162|          7|           0|\n",
            "|mister|Mister Trash Wheel|       2|  May|2014|5/16/2014|              2.74|    13|          1120|       1030|         91000|          42|        496|     874|          5|           0|\n",
            "|mister|Mister Trash Wheel|       3|  May|2014|5/16/2014|3.4499999999999997|    15|          2450|       3100|        105000|          50|       1080|    2032|          6|           0|\n",
            "|mister|Mister Trash Wheel|       4|  May|2014|5/17/2014|               3.1|    15|          2380|       2730|        100000|          52|        896|    1971|          6|           0|\n",
            "|mister|Mister Trash Wheel|       5|  May|2014|5/17/2014|              4.06|    18|           980|        870|        120000|          72|        368|     753|          7|           0|\n",
            "|mister|Mister Trash Wheel|       6|  May|2014|5/20/2014|              2.71|    13|          1430|       2140|         90000|          46|        672|    1144|          5|           0|\n",
            "|mister|Mister Trash Wheel|       7|  May|2014|5/21/2014|              1.91|     8|           910|       1090|         56000|          32|        416|     692|          3|           0|\n",
            "|mister|Mister Trash Wheel|       8|  May|2014|5/28/2014|               3.7|    16|          3580|       4310|        112000|          58|       1552|    3015|          6|           0|\n",
            "|mister|Mister Trash Wheel|       9| June|2014| 6/5/2014|              2.52|    14|          2400|       2790|         98000|          49|        984|    1988|          6|           0|\n",
            "|mister|Mister Trash Wheel|      10| June|2014|6/11/2014|3.7600000000000002|    18|          1340|       1730|        130000|          75|        448|    1066|          7|           0|\n",
            "|mister|Mister Trash Wheel|      11| June|2014|6/11/2014|3.4299999999999997|    15|           740|        869|        110000|          38|        344|     544|          6|           0|\n",
            "|mister|Mister Trash Wheel|      12| June|2014|6/12/2014|              4.17|    19|           950|       1140|        133000|          45|        520|     727|          8|           0|\n",
            "|mister|Mister Trash Wheel|      13| June|2014|6/13/2014|              5.13|    15|           530|        630|        104000|          58|        224|     361|          6|           0|\n",
            "|mister|Mister Trash Wheel|      14| June|2014|6/13/2014|              4.17|    15|           840|        760|        100000|          62|        344|     631|          6|           0|\n",
            "|mister|Mister Trash Wheel|      15| June|2014|6/19/2014|3.2800000000000002|    15|          1130|       1350|        102000|          64|        432|     883|          6|           0|\n",
            "|mister|Mister Trash Wheel|      16| June|2014|6/19/2014|              3.05|    15|          1640|       2130|        106000|          56|        752|    1327|          6|           0|\n",
            "|mister|Mister Trash Wheel|      17| June|2014|6/28/2014|2.4899999999999998|    13|          1350|       1620|         89000|          47|        696|    1075|          5|           0|\n",
            "|mister|Mister Trash Wheel|      18| July|2014| 7/3/2014|              2.54|    15|          1640|       1960|        108000|          65|        744|    1327|          6|           0|\n",
            "|mister|Mister Trash Wheel|      19| July|2014| 7/7/2014|2.4099999999999997|    15|          1730|       2100|        107000|          63|        896|    1405|          6|           0|\n",
            "|mister|Mister Trash Wheel|      20| July|2014|7/11/2014|3.8299999999999996|    18|          5960|       6540|        132000|          79|       2560|    5085|          7|           0|\n",
            "+------+------------------+--------+-----+----+---------+------------------+------+--------------+-----------+--------------+------------+-----------+--------+-----------+------------+\n",
            "only showing top 20 rows\n",
            "\n"
          ]
        }
      ],
      "source": [
        "data.filter(data['Year'] == 2014).show()\n"
      ]
    },
    {
      "cell_type": "code",
      "execution_count": null,
      "metadata": {
        "colab": {
          "base_uri": "https://localhost:8080/"
        },
        "id": "2Tatbvk-2rCa",
        "outputId": "566e3425-9537-4f44-ebe7-503ed4a680e6"
      },
      "outputs": [
        {
          "output_type": "stream",
          "name": "stdout",
          "text": [
            "root\n",
            " |-- ID: string (nullable = true)\n",
            " |-- Name: string (nullable = true)\n",
            " |-- Dumpster: integer (nullable = true)\n",
            " |-- Month: string (nullable = true)\n",
            " |-- Year: integer (nullable = true)\n",
            " |-- Date: string (nullable = true)\n",
            " |-- Weight: double (nullable = true)\n",
            " |-- Volume: integer (nullable = true)\n",
            " |-- PlasticBottles: double (nullable = true)\n",
            " |-- Polystyrene: double (nullable = true)\n",
            " |-- CigaretteButts: double (nullable = true)\n",
            " |-- GlassBottles: double (nullable = true)\n",
            " |-- PlasticBags: double (nullable = true)\n",
            " |-- Wrappers: double (nullable = true)\n",
            " |-- SportsBalls: double (nullable = true)\n",
            " |-- HomesPowered: integer (nullable = true)\n",
            "\n"
          ]
        }
      ],
      "source": [
        "from pyspark.sql.functions import col\n",
        "\n",
        "# Conversion des colonnes en type numérique (double)\n",
        "data = data.withColumn('PlasticBottles', col('PlasticBottles').cast('double'))\n",
        "data = data.withColumn('Polystyrene', col('Polystyrene').cast('double'))\n",
        "data = data.withColumn('CigaretteButts', col('CigaretteButts').cast('double'))\n",
        "data = data.withColumn('GlassBottles', col('GlassBottles').cast('double'))\n",
        "data = data.withColumn('PlasticBags', col('PlasticBags').cast('double'))\n",
        "data = data.withColumn('Wrappers', col('Wrappers').cast('double'))\n",
        "data = data.withColumn('SportsBalls', col('SportsBalls').cast('double'))\n",
        "\n",
        "# Vérifier les types de données après conversion\n",
        "data.printSchema()\n"
      ]
    },
    {
      "cell_type": "code",
      "execution_count": null,
      "metadata": {
        "colab": {
          "base_uri": "https://localhost:8080/"
        },
        "id": "kOWFQNEy3b0C",
        "outputId": "b77a2f20-a801-4ec4-f837-553118080b50"
      },
      "outputs": [
        {
          "name": "stdout",
          "output_type": "stream",
          "text": [
            "+---------+--------------------+--------+---------+----+--------+------+------+--------------+-----------+--------------+------------+-----------+--------+-----------+------------+\n",
            "|       ID|                Name|Dumpster|    Month|Year|    Date|Weight|Volume|PlasticBottles|Polystyrene|CigaretteButts|GlassBottles|PlasticBags|Wrappers|SportsBalls|HomesPowered|\n",
            "+---------+--------------------+--------+---------+----+--------+------+------+--------------+-----------+--------------+------------+-----------+--------+-----------+------------+\n",
            "|professor|Professor Trash W...|       1|  January|2017|  1/2/17|  1.79|    15|        1950.0|     6080.0|       19700.0|         8.0|     3100.0| 15600.0|       NULL|          30|\n",
            "|professor|Professor Trash W...|       2|  January|2017| 1/30/17|  1.58|    15|        9540.0|    11230.0|       17600.0|        14.0|     5630.0| 16700.0|       NULL|          26|\n",
            "|professor|Professor Trash W...|       3| February|2017| 2/26/17|  2.32|    18|        8350.0|     9210.0|       12000.0|        19.0|     6430.0| 12400.0|       NULL|          39|\n",
            "|professor|Professor Trash W...|       4| February|2017| 2/26/17|  3.72|    15|        8590.0|     1030.0|       13000.0|        21.0|     5870.0| 11030.0|       NULL|          62|\n",
            "|professor|Professor Trash W...|       5| February|2017| 2/28/17|  1.45|    15|        7830.0|     9950.0|       16000.0|        18.0|     7450.0| 15340.0|       NULL|          24|\n",
            "|professor|Professor Trash W...|       6|    March|2017| 3/30/17|  1.71|    15|        8210.0|    10340.0|       14000.0|        23.0|     9560.0| 13470.0|       NULL|          29|\n",
            "|professor|Professor Trash W...|       7|    April|2017|  4/1/17|  1.82|    15|        9830.0|    11020.0|       17000.0|        26.0|    11500.0| 18620.0|       NULL|          30|\n",
            "|professor|Professor Trash W...|       8|    April|2017| 4/20/17|  2.37|    15|        9240.0|     8760.0|       15000.0|        14.0|     9970.0| 14670.0|       NULL|          40|\n",
            "|professor|Professor Trash W...|       9|      May|2017| 5/10/17|  2.64|    15|        9540.0|     8810.0|       17000.0|        28.0|    12340.0| 16580.0|       NULL|          44|\n",
            "|professor|Professor Trash W...|      10|      May|2017| 5/26/17|  2.78|    15|        8230.0|     7800.0|       13000.0|        22.0|    13450.0| 17220.0|       NULL|          46|\n",
            "|professor|Professor Trash W...|      11|     June|2017| 6/20/17|  2.34|    15|        7540.0|     8260.0|       14000.0|        12.0|    10320.0| 15430.0|       NULL|          39|\n",
            "|professor|Professor Trash W...|      12|     July|2017| 7/17/17|  1.63|    15|        8490.0|     8230.0|       16000.0|        24.0|     8870.0| 10400.0|       NULL|          27|\n",
            "|professor|Professor Trash W...|      13|     July|2017| 7/17/17|  2.37|    15|        9610.0|     9480.0|       19000.0|        27.0|    13400.0| 15200.0|       NULL|          40|\n",
            "|professor|Professor Trash W...|      14|     July|2017| 7/28/17|  1.69|    15|        7960.0|     7650.0|       12000.0|        17.0|     9540.0| 12400.0|       NULL|          28|\n",
            "|professor|Professor Trash W...|      15|   August|2017|  8/4/17|  2.93|    15|        8870.0|     8530.0|       21000.0|        32.0|    11600.0| 16500.0|       NULL|          49|\n",
            "|professor|Professor Trash W...|      16|   August|2017| 8/31/17|  1.21|    15|        7420.0|     7280.0|       15000.0|        18.0|     9710.0| 13200.0|       NULL|          20|\n",
            "|professor|Professor Trash W...|      17|September|2017|  9/7/17|  1.47|    15|        8250.0|     7860.0|       14000.0|        24.0|     8940.0| 12500.0|       NULL|          25|\n",
            "|professor|Professor Trash W...|      18| November|2017|11/17/17|  0.75|     8|        8472.0|    11528.0|       33320.0|         0.0|      656.0|  5392.0|       NULL|          13|\n",
            "|professor|Professor Trash W...|      19|  January|2018| 1/15/18|  0.99|    15|        7530.0|     9240.0|       22400.0|         6.0|      940.0|  7650.0|       NULL|          17|\n",
            "|professor|Professor Trash W...|      20| February|2018|  2/5/18|  1.58|    15|        2340.0|     3780.0|       24000.0|         4.0|     1870.0| 16500.0|       NULL|          26|\n",
            "+---------+--------------------+--------+---------+----+--------+------+------+--------------+-----------+--------------+------------+-----------+--------+-----------+------------+\n",
            "only showing top 20 rows\n",
            "\n"
          ]
        }
      ],
      "source": [
        "from pyspark.sql.functions import col\n",
        "data.filter(col('Volume').isNull() | col('PlasticBottles').isNull() |\n",
        "            col('Polystyrene').isNull() | col('CigaretteButts').isNull() |\n",
        "            col('GlassBottles').isNull() | col('PlasticBags').isNull() |\n",
        "            col('Wrappers').isNull() | col('SportsBalls').isNull()).show()\n"
      ]
    },
    {
      "cell_type": "code",
      "execution_count": null,
      "metadata": {
        "id": "eGXg6JLF3kz6"
      },
      "outputs": [],
      "source": [
        "data_cleaned = data.na.drop(subset=['Volume', 'PlasticBottles', 'Polystyrene', 'CigaretteButts',\n",
        "                                    'GlassBottles', 'PlasticBags', 'Wrappers', 'SportsBalls'])\n"
      ]
    },
    {
      "cell_type": "code",
      "execution_count": null,
      "metadata": {
        "id": "ubmtxFVl37Zy"
      },
      "outputs": [],
      "source": [
        "from pyspark.ml.feature import VectorAssembler # Importing the VectorAssembler class\n",
        "from pyspark.ml.regression import LinearRegression # Import LinearRegression\n",
        "# Assuming you want to assemble the following columns:\n",
        "feature_columns = ['PlasticBottles', 'Polystyrene', 'CigaretteButts', 'GlassBottles',\n",
        "                  'PlasticBags', 'Wrappers', 'SportsBalls']\n",
        "\n",
        "# Create and configure the VectorAssembler\n",
        "assembler = VectorAssembler(inputCols=feature_columns, outputCol=\"features\")\n",
        "# Create a LinearRegression object\n",
        "lr = LinearRegression(featuresCol=\"features\", labelCol=\"Volume\") # Assuming 'Volume' is your target variable\n",
        "\n",
        "\n",
        "# Now you can use the assembler\n",
        "data_sample = data.limit(100)  # Limiter à 100 lignes\n",
        "data_assembled_sample = assembler.transform(data_sample)\n",
        "lr_model = lr.fit(data_assembled_sample)\n"
      ]
    },
    {
      "cell_type": "code",
      "execution_count": null,
      "metadata": {
        "id": "BCJWmY3e39tw"
      },
      "outputs": [],
      "source": [
        "# Supprimer les lignes avec des valeurs nulles dans les colonnes pertinentes\n",
        "data_cleaned = data.na.drop(subset=['Volume', 'PlasticBottles', 'Polystyrene', 'CigaretteButts',\n",
        "                                   'GlassBottles', 'PlasticBags', 'Wrappers', 'SportsBalls'])\n",
        "\n",
        "# Appliquer le VectorAssembler\n",
        "assembler = VectorAssembler(\n",
        "    inputCols=['Volume', 'PlasticBottles', 'Polystyrene', 'CigaretteButts',\n",
        "               'GlassBottles', 'PlasticBags', 'Wrappers', 'SportsBalls'],\n",
        "    outputCol='features'\n",
        ")\n",
        "\n",
        "data_assembled = assembler.transform(data_cleaned)\n",
        "\n",
        "# Créer et entraîner le modèle de régression linéaire\n",
        "lr = LinearRegression(featuresCol='features', labelCol='Weight')\n",
        "lr_model = lr.fit(data_assembled)\n",
        "\n",
        "\n"
      ]
    },
    {
      "cell_type": "code",
      "execution_count": null,
      "metadata": {
        "id": "ozmFieAr4hYz"
      },
      "outputs": [],
      "source": [
        "from pyspark.ml.feature import VectorAssembler\n",
        "\n",
        "# Utiliser uniquement PlasticBottles comme entrée\n",
        "assembler = VectorAssembler(inputCols=['PlasticBottles'], outputCol='features')\n",
        "data_assembled = assembler.transform(data)\n"
      ]
    },
    {
      "cell_type": "code",
      "execution_count": null,
      "metadata": {
        "id": "tyLLsjD645Y_"
      },
      "outputs": [],
      "source": [
        "# Supprimer les lignes où PlasticBottles est null\n",
        "data_cleaned = data.filter(data.PlasticBottles.isNotNull())\n",
        "\n",
        "# Appliquer le VectorAssembler sur les données nettoyées\n",
        "data_assembled = assembler.transform(data_cleaned)\n"
      ]
    },
    {
      "cell_type": "code",
      "execution_count": null,
      "metadata": {
        "id": "tJsdjolT47av"
      },
      "outputs": [],
      "source": [
        "from pyspark.sql.functions import coalesce, lit\n",
        "\n",
        "# Remplacer les valeurs nulles par 0 dans la colonne PlasticBottles\n",
        "data_filled = data.withColumn(\"PlasticBottles\", coalesce(data.PlasticBottles, lit(0)))\n",
        "\n",
        "# Appliquer le VectorAssembler sur les données modifiées\n",
        "data_assembled = assembler.transform(data_filled)\n"
      ]
    },
    {
      "cell_type": "code",
      "execution_count": null,
      "metadata": {
        "id": "EgxJ8vy35M_v"
      },
      "outputs": [],
      "source": [
        "assembler = VectorAssembler(inputCols=['PlasticBottles'], outputCol='features', handleInvalid='skip')\n",
        "data_assembled = assembler.transform(data)\n"
      ]
    },
    {
      "cell_type": "code",
      "source": [],
      "metadata": {
        "id": "nZZkHEeNIwR9"
      },
      "execution_count": null,
      "outputs": []
    },
    {
      "cell_type": "code",
      "source": [],
      "metadata": {
        "id": "G2akH-tyIwAd"
      },
      "execution_count": null,
      "outputs": []
    },
    {
      "cell_type": "code",
      "execution_count": null,
      "metadata": {
        "colab": {
          "base_uri": "https://localhost:8080/"
        },
        "id": "XNhvdlMK5TV7",
        "outputId": "16116b36-a52e-4106-ef88-faf929845412"
      },
      "outputs": [
        {
          "output_type": "execute_result",
          "data": {
            "text/plain": [
              "1"
            ]
          },
          "metadata": {},
          "execution_count": 38
        }
      ],
      "source": [
        "# Compter les valeurs nulles dans la colonne PlasticBottles\n",
        "data.filter(data.PlasticBottles.isNull()).count()\n"
      ]
    },
    {
      "cell_type": "code",
      "execution_count": null,
      "metadata": {
        "id": "ZkuDWgiN5fZ4"
      },
      "outputs": [],
      "source": [
        "from pyspark.ml.regression import LinearRegression\n",
        "\n",
        "# Créer un modèle de régression linéaire avec PlasticBottles comme caractéristique\n",
        "lr = LinearRegression(featuresCol='features', labelCol='Weight')\n",
        "\n",
        "# Entraîner le modèle\n",
        "lr_model = lr.fit(data_assembled)\n"
      ]
    },
    {
      "cell_type": "code",
      "execution_count": null,
      "metadata": {
        "colab": {
          "base_uri": "https://localhost:8080/"
        },
        "id": "bLVVFjoS5hX-",
        "outputId": "10dfd21e-e5fc-4b57-ef4e-76a717b60e42"
      },
      "outputs": [
        {
          "output_type": "stream",
          "name": "stdout",
          "text": [
            "+--------------+------------+------------------+\n",
            "|PlasticBottles|GlassBottles|        prediction|\n",
            "+--------------+------------+------------------+\n",
            "|        1450.0|        72.0| 3.069374445609601|\n",
            "|        1120.0|        42.0|3.1132674906146325|\n",
            "|        2450.0|        50.0| 2.936365218321626|\n",
            "|        2380.0|        52.0| 2.945675864231784|\n",
            "|         980.0|        72.0|3.1318887824349493|\n",
            "+--------------+------------+------------------+\n",
            "only showing top 5 rows\n",
            "\n"
          ]
        }
      ],
      "source": [
        "# Faire des prédictions avec le modèle entraîné\n",
        "predictions = lr_model.transform(data_assembled)\n",
        "\n",
        "# Afficher les prédictions\n",
        "predictions.select('PlasticBottles', 'GlassBottles', 'prediction').show(5)\n"
      ]
    },
    {
      "cell_type": "code",
      "execution_count": null,
      "metadata": {
        "colab": {
          "base_uri": "https://localhost:8080/"
        },
        "id": "7x7hrQLW52Vw",
        "outputId": "8915b27c-7d60-42bc-84ad-1f863152b54f"
      },
      "outputs": [
        {
          "output_type": "stream",
          "name": "stdout",
          "text": [
            "+--------------+------------+------------------+\n",
            "|PlasticBottles|GlassBottles|        prediction|\n",
            "+--------------+------------+------------------+\n",
            "|        1450.0|        72.0| 3.069374445609601|\n",
            "|        1120.0|        42.0|3.1132674906146325|\n",
            "|        2450.0|        50.0| 2.936365218321626|\n",
            "|        2380.0|        52.0| 2.945675864231784|\n",
            "|         980.0|        72.0|3.1318887824349493|\n",
            "|        1430.0|        46.0|3.0720346301553603|\n",
            "|         910.0|        32.0|3.1411994283451072|\n",
            "|        3580.0|        58.0| 2.786064791486214|\n",
            "|        2400.0|        49.0|2.9430156796860247|\n",
            "|        1340.0|        75.0|3.0840054606112783|\n",
            "|         740.0|        38.0| 3.163810996984063|\n",
            "|         950.0|        45.0|3.1358790592535883|\n",
            "|         530.0|        58.0| 3.191742934714538|\n",
            "|         840.0|        62.0|3.1505100742552656|\n",
            "|        1130.0|        64.0|3.1119373983417526|\n",
            "|        1640.0|        56.0|3.0441026924248855|\n",
            "|        1350.0|        47.0|3.0826753683383985|\n",
            "|        1640.0|        65.0|3.0441026924248855|\n",
            "|        1730.0|        63.0| 3.032131861968968|\n",
            "|        5960.0|        79.0|2.4695028305408337|\n",
            "+--------------+------------+------------------+\n",
            "only showing top 20 rows\n",
            "\n",
            "root\n",
            " |-- ID: string (nullable = true)\n",
            " |-- Name: string (nullable = true)\n",
            " |-- Dumpster: integer (nullable = true)\n",
            " |-- Month: string (nullable = true)\n",
            " |-- Year: integer (nullable = true)\n",
            " |-- Date: string (nullable = true)\n",
            " |-- Weight: double (nullable = true)\n",
            " |-- Volume: integer (nullable = true)\n",
            " |-- PlasticBottles: double (nullable = true)\n",
            " |-- Polystyrene: double (nullable = true)\n",
            " |-- CigaretteButts: double (nullable = true)\n",
            " |-- GlassBottles: double (nullable = true)\n",
            " |-- PlasticBags: double (nullable = true)\n",
            " |-- Wrappers: double (nullable = true)\n",
            " |-- SportsBalls: double (nullable = true)\n",
            " |-- HomesPowered: integer (nullable = true)\n",
            " |-- features: vector (nullable = true)\n",
            " |-- prediction: double (nullable = false)\n",
            "\n"
          ]
        }
      ],
      "source": [
        "# Appliquer le modèle pour faire des prédictions sur les données\n",
        "predictions = lr_model.transform(data_assembled)\n",
        "\n",
        "# Afficher les prédictions\n",
        "predictions.select(\"PlasticBottles\", \"GlassBottles\", \"prediction\").show()\n",
        "\n",
        "# Afficher le schéma des données après prédiction\n",
        "predictions.printSchema()\n"
      ]
    },
    {
      "cell_type": "code",
      "execution_count": null,
      "metadata": {
        "colab": {
          "base_uri": "https://localhost:8080/"
        },
        "id": "u7BoMPnD55O2",
        "outputId": "127423ed-4da8-4a4d-c518-c967c847e261"
      },
      "outputs": [
        {
          "output_type": "stream",
          "name": "stdout",
          "text": [
            "Requirement already satisfied: pandas in /usr/local/lib/python3.10/dist-packages (2.2.2)\n",
            "Requirement already satisfied: numpy>=1.22.4 in /usr/local/lib/python3.10/dist-packages (from pandas) (1.26.4)\n",
            "Requirement already satisfied: python-dateutil>=2.8.2 in /usr/local/lib/python3.10/dist-packages (from pandas) (2.8.2)\n",
            "Requirement already satisfied: pytz>=2020.1 in /usr/local/lib/python3.10/dist-packages (from pandas) (2024.2)\n",
            "Requirement already satisfied: tzdata>=2022.7 in /usr/local/lib/python3.10/dist-packages (from pandas) (2024.2)\n",
            "Requirement already satisfied: six>=1.5 in /usr/local/lib/python3.10/dist-packages (from python-dateutil>=2.8.2->pandas) (1.16.0)\n"
          ]
        }
      ],
      "source": [
        "!pip install pandas"
      ]
    },
    {
      "cell_type": "code",
      "execution_count": null,
      "metadata": {
        "colab": {
          "base_uri": "https://localhost:8080/",
          "height": 206
        },
        "id": "ATA6GkZG54xI",
        "outputId": "3d839e0d-8fda-42ac-bece-14947d52380f"
      },
      "outputs": [
        {
          "output_type": "execute_result",
          "data": {
            "text/plain": [
              "   PlasticBottles  GlassBottles  prediction\n",
              "0          1450.0          72.0    3.069374\n",
              "1          1120.0          42.0    3.113267\n",
              "2          2450.0          50.0    2.936365\n",
              "3          2380.0          52.0    2.945676\n",
              "4           980.0          72.0    3.131889"
            ],
            "text/html": [
              "\n",
              "  <div id=\"df-9ab707b9-8c7a-4b64-96e2-15357cf10fb1\" class=\"colab-df-container\">\n",
              "    <div>\n",
              "<style scoped>\n",
              "    .dataframe tbody tr th:only-of-type {\n",
              "        vertical-align: middle;\n",
              "    }\n",
              "\n",
              "    .dataframe tbody tr th {\n",
              "        vertical-align: top;\n",
              "    }\n",
              "\n",
              "    .dataframe thead th {\n",
              "        text-align: right;\n",
              "    }\n",
              "</style>\n",
              "<table border=\"1\" class=\"dataframe\">\n",
              "  <thead>\n",
              "    <tr style=\"text-align: right;\">\n",
              "      <th></th>\n",
              "      <th>PlasticBottles</th>\n",
              "      <th>GlassBottles</th>\n",
              "      <th>prediction</th>\n",
              "    </tr>\n",
              "  </thead>\n",
              "  <tbody>\n",
              "    <tr>\n",
              "      <th>0</th>\n",
              "      <td>1450.0</td>\n",
              "      <td>72.0</td>\n",
              "      <td>3.069374</td>\n",
              "    </tr>\n",
              "    <tr>\n",
              "      <th>1</th>\n",
              "      <td>1120.0</td>\n",
              "      <td>42.0</td>\n",
              "      <td>3.113267</td>\n",
              "    </tr>\n",
              "    <tr>\n",
              "      <th>2</th>\n",
              "      <td>2450.0</td>\n",
              "      <td>50.0</td>\n",
              "      <td>2.936365</td>\n",
              "    </tr>\n",
              "    <tr>\n",
              "      <th>3</th>\n",
              "      <td>2380.0</td>\n",
              "      <td>52.0</td>\n",
              "      <td>2.945676</td>\n",
              "    </tr>\n",
              "    <tr>\n",
              "      <th>4</th>\n",
              "      <td>980.0</td>\n",
              "      <td>72.0</td>\n",
              "      <td>3.131889</td>\n",
              "    </tr>\n",
              "  </tbody>\n",
              "</table>\n",
              "</div>\n",
              "    <div class=\"colab-df-buttons\">\n",
              "\n",
              "  <div class=\"colab-df-container\">\n",
              "    <button class=\"colab-df-convert\" onclick=\"convertToInteractive('df-9ab707b9-8c7a-4b64-96e2-15357cf10fb1')\"\n",
              "            title=\"Convert this dataframe to an interactive table.\"\n",
              "            style=\"display:none;\">\n",
              "\n",
              "  <svg xmlns=\"http://www.w3.org/2000/svg\" height=\"24px\" viewBox=\"0 -960 960 960\">\n",
              "    <path d=\"M120-120v-720h720v720H120Zm60-500h600v-160H180v160Zm220 220h160v-160H400v160Zm0 220h160v-160H400v160ZM180-400h160v-160H180v160Zm440 0h160v-160H620v160ZM180-180h160v-160H180v160Zm440 0h160v-160H620v160Z\"/>\n",
              "  </svg>\n",
              "    </button>\n",
              "\n",
              "  <style>\n",
              "    .colab-df-container {\n",
              "      display:flex;\n",
              "      gap: 12px;\n",
              "    }\n",
              "\n",
              "    .colab-df-convert {\n",
              "      background-color: #E8F0FE;\n",
              "      border: none;\n",
              "      border-radius: 50%;\n",
              "      cursor: pointer;\n",
              "      display: none;\n",
              "      fill: #1967D2;\n",
              "      height: 32px;\n",
              "      padding: 0 0 0 0;\n",
              "      width: 32px;\n",
              "    }\n",
              "\n",
              "    .colab-df-convert:hover {\n",
              "      background-color: #E2EBFA;\n",
              "      box-shadow: 0px 1px 2px rgba(60, 64, 67, 0.3), 0px 1px 3px 1px rgba(60, 64, 67, 0.15);\n",
              "      fill: #174EA6;\n",
              "    }\n",
              "\n",
              "    .colab-df-buttons div {\n",
              "      margin-bottom: 4px;\n",
              "    }\n",
              "\n",
              "    [theme=dark] .colab-df-convert {\n",
              "      background-color: #3B4455;\n",
              "      fill: #D2E3FC;\n",
              "    }\n",
              "\n",
              "    [theme=dark] .colab-df-convert:hover {\n",
              "      background-color: #434B5C;\n",
              "      box-shadow: 0px 1px 3px 1px rgba(0, 0, 0, 0.15);\n",
              "      filter: drop-shadow(0px 1px 2px rgba(0, 0, 0, 0.3));\n",
              "      fill: #FFFFFF;\n",
              "    }\n",
              "  </style>\n",
              "\n",
              "    <script>\n",
              "      const buttonEl =\n",
              "        document.querySelector('#df-9ab707b9-8c7a-4b64-96e2-15357cf10fb1 button.colab-df-convert');\n",
              "      buttonEl.style.display =\n",
              "        google.colab.kernel.accessAllowed ? 'block' : 'none';\n",
              "\n",
              "      async function convertToInteractive(key) {\n",
              "        const element = document.querySelector('#df-9ab707b9-8c7a-4b64-96e2-15357cf10fb1');\n",
              "        const dataTable =\n",
              "          await google.colab.kernel.invokeFunction('convertToInteractive',\n",
              "                                                    [key], {});\n",
              "        if (!dataTable) return;\n",
              "\n",
              "        const docLinkHtml = 'Like what you see? Visit the ' +\n",
              "          '<a target=\"_blank\" href=https://colab.research.google.com/notebooks/data_table.ipynb>data table notebook</a>'\n",
              "          + ' to learn more about interactive tables.';\n",
              "        element.innerHTML = '';\n",
              "        dataTable['output_type'] = 'display_data';\n",
              "        await google.colab.output.renderOutput(dataTable, element);\n",
              "        const docLink = document.createElement('div');\n",
              "        docLink.innerHTML = docLinkHtml;\n",
              "        element.appendChild(docLink);\n",
              "      }\n",
              "    </script>\n",
              "  </div>\n",
              "\n",
              "\n",
              "<div id=\"df-46145845-9d36-447e-9502-0125afce2794\">\n",
              "  <button class=\"colab-df-quickchart\" onclick=\"quickchart('df-46145845-9d36-447e-9502-0125afce2794')\"\n",
              "            title=\"Suggest charts\"\n",
              "            style=\"display:none;\">\n",
              "\n",
              "<svg xmlns=\"http://www.w3.org/2000/svg\" height=\"24px\"viewBox=\"0 0 24 24\"\n",
              "     width=\"24px\">\n",
              "    <g>\n",
              "        <path d=\"M19 3H5c-1.1 0-2 .9-2 2v14c0 1.1.9 2 2 2h14c1.1 0 2-.9 2-2V5c0-1.1-.9-2-2-2zM9 17H7v-7h2v7zm4 0h-2V7h2v10zm4 0h-2v-4h2v4z\"/>\n",
              "    </g>\n",
              "</svg>\n",
              "  </button>\n",
              "\n",
              "<style>\n",
              "  .colab-df-quickchart {\n",
              "      --bg-color: #E8F0FE;\n",
              "      --fill-color: #1967D2;\n",
              "      --hover-bg-color: #E2EBFA;\n",
              "      --hover-fill-color: #174EA6;\n",
              "      --disabled-fill-color: #AAA;\n",
              "      --disabled-bg-color: #DDD;\n",
              "  }\n",
              "\n",
              "  [theme=dark] .colab-df-quickchart {\n",
              "      --bg-color: #3B4455;\n",
              "      --fill-color: #D2E3FC;\n",
              "      --hover-bg-color: #434B5C;\n",
              "      --hover-fill-color: #FFFFFF;\n",
              "      --disabled-bg-color: #3B4455;\n",
              "      --disabled-fill-color: #666;\n",
              "  }\n",
              "\n",
              "  .colab-df-quickchart {\n",
              "    background-color: var(--bg-color);\n",
              "    border: none;\n",
              "    border-radius: 50%;\n",
              "    cursor: pointer;\n",
              "    display: none;\n",
              "    fill: var(--fill-color);\n",
              "    height: 32px;\n",
              "    padding: 0;\n",
              "    width: 32px;\n",
              "  }\n",
              "\n",
              "  .colab-df-quickchart:hover {\n",
              "    background-color: var(--hover-bg-color);\n",
              "    box-shadow: 0 1px 2px rgba(60, 64, 67, 0.3), 0 1px 3px 1px rgba(60, 64, 67, 0.15);\n",
              "    fill: var(--button-hover-fill-color);\n",
              "  }\n",
              "\n",
              "  .colab-df-quickchart-complete:disabled,\n",
              "  .colab-df-quickchart-complete:disabled:hover {\n",
              "    background-color: var(--disabled-bg-color);\n",
              "    fill: var(--disabled-fill-color);\n",
              "    box-shadow: none;\n",
              "  }\n",
              "\n",
              "  .colab-df-spinner {\n",
              "    border: 2px solid var(--fill-color);\n",
              "    border-color: transparent;\n",
              "    border-bottom-color: var(--fill-color);\n",
              "    animation:\n",
              "      spin 1s steps(1) infinite;\n",
              "  }\n",
              "\n",
              "  @keyframes spin {\n",
              "    0% {\n",
              "      border-color: transparent;\n",
              "      border-bottom-color: var(--fill-color);\n",
              "      border-left-color: var(--fill-color);\n",
              "    }\n",
              "    20% {\n",
              "      border-color: transparent;\n",
              "      border-left-color: var(--fill-color);\n",
              "      border-top-color: var(--fill-color);\n",
              "    }\n",
              "    30% {\n",
              "      border-color: transparent;\n",
              "      border-left-color: var(--fill-color);\n",
              "      border-top-color: var(--fill-color);\n",
              "      border-right-color: var(--fill-color);\n",
              "    }\n",
              "    40% {\n",
              "      border-color: transparent;\n",
              "      border-right-color: var(--fill-color);\n",
              "      border-top-color: var(--fill-color);\n",
              "    }\n",
              "    60% {\n",
              "      border-color: transparent;\n",
              "      border-right-color: var(--fill-color);\n",
              "    }\n",
              "    80% {\n",
              "      border-color: transparent;\n",
              "      border-right-color: var(--fill-color);\n",
              "      border-bottom-color: var(--fill-color);\n",
              "    }\n",
              "    90% {\n",
              "      border-color: transparent;\n",
              "      border-bottom-color: var(--fill-color);\n",
              "    }\n",
              "  }\n",
              "</style>\n",
              "\n",
              "  <script>\n",
              "    async function quickchart(key) {\n",
              "      const quickchartButtonEl =\n",
              "        document.querySelector('#' + key + ' button');\n",
              "      quickchartButtonEl.disabled = true;  // To prevent multiple clicks.\n",
              "      quickchartButtonEl.classList.add('colab-df-spinner');\n",
              "      try {\n",
              "        const charts = await google.colab.kernel.invokeFunction(\n",
              "            'suggestCharts', [key], {});\n",
              "      } catch (error) {\n",
              "        console.error('Error during call to suggestCharts:', error);\n",
              "      }\n",
              "      quickchartButtonEl.classList.remove('colab-df-spinner');\n",
              "      quickchartButtonEl.classList.add('colab-df-quickchart-complete');\n",
              "    }\n",
              "    (() => {\n",
              "      let quickchartButtonEl =\n",
              "        document.querySelector('#df-46145845-9d36-447e-9502-0125afce2794 button');\n",
              "      quickchartButtonEl.style.display =\n",
              "        google.colab.kernel.accessAllowed ? 'block' : 'none';\n",
              "    })();\n",
              "  </script>\n",
              "</div>\n",
              "\n",
              "    </div>\n",
              "  </div>\n"
            ],
            "application/vnd.google.colaboratory.intrinsic+json": {
              "type": "dataframe",
              "variable_name": "predictions_pd",
              "summary": "{\n  \"name\": \"predictions_pd\",\n  \"rows\": 992,\n  \"fields\": [\n    {\n      \"column\": \"PlasticBottles\",\n      \"properties\": {\n        \"dtype\": \"number\",\n        \"std\": 1650.4494961685468,\n        \"min\": 0.0,\n        \"max\": 9830.0,\n        \"num_unique_values\": 306,\n        \"samples\": [\n          1080.0,\n          730.0,\n          1876.0\n        ],\n        \"semantic_type\": \"\",\n        \"description\": \"\"\n      }\n    },\n    {\n      \"column\": \"GlassBottles\",\n      \"properties\": {\n        \"dtype\": \"number\",\n        \"std\": 15.25684432349032,\n        \"min\": 0.0,\n        \"max\": 110.0,\n        \"num_unique_values\": 69,\n        \"samples\": [\n          82.0,\n          72.0,\n          31.0\n        ],\n        \"semantic_type\": \"\",\n        \"description\": \"\"\n      }\n    },\n    {\n      \"column\": \"prediction\",\n      \"properties\": {\n        \"dtype\": \"number\",\n        \"std\": 0.2195250121632064,\n        \"min\": 1.95475712093637,\n        \"max\": 3.2622378251771647,\n        \"num_unique_values\": 306,\n        \"samples\": [\n          3.118587859706152,\n          3.165141089256943,\n          3.0127125147849236\n        ],\n        \"semantic_type\": \"\",\n        \"description\": \"\"\n      }\n    }\n  ]\n}"
            }
          },
          "metadata": {},
          "execution_count": 32
        }
      ],
      "source": [
        "import pandas as pd\n",
        "predictions_pd = predictions.select(\"PlasticBottles\", \"GlassBottles\", \"prediction\").toPandas()\n",
        "predictions_pd.head()\n"
      ]
    },
    {
      "cell_type": "code",
      "execution_count": null,
      "metadata": {
        "colab": {
          "base_uri": "https://localhost:8080/",
          "height": 452
        },
        "id": "ehb0cmdDCAci",
        "outputId": "d8f85fcd-6426-48d2-97a3-7cdbb75ed950"
      },
      "outputs": [
        {
          "output_type": "display_data",
          "data": {
            "text/plain": [
              "<Figure size 640x480 with 1 Axes>"
            ],
            "image/png": "[encoded data removed]"
          },
          "metadata": {}
        }
      ],
      "source": [
        "# @title PlasticBottles\n",
        "\n",
        "from matplotlib import pyplot as plt\n",
        "predictions_pd['PlasticBottles'].plot(kind='hist', bins=20, title='PlasticBottles')\n",
        "plt.gca().spines[['top', 'right',]].set_visible(False)"
      ]
    },
    {
      "cell_type": "code",
      "execution_count": null,
      "metadata": {
        "colab": {
          "base_uri": "https://localhost:8080/",
          "height": 452
        },
        "id": "NtQEi2LqB8kC",
        "outputId": "d297c2ca-5260-4944-eca3-5956e6d2c891"
      },
      "outputs": [
        {
          "output_type": "display_data",
          "data": {
            "text/plain": [
              "<Figure size 640x480 with 1 Axes>"
            ],
            "image/png": "[encoded data removed]"
          },
          "metadata": {}
        }
      ],
      "source": [
        "# @title GlassBottles\n",
        "\n",
        "from matplotlib import pyplot as plt\n",
        "predictions_pd['GlassBottles'].plot(kind='hist', bins=20, title='GlassBottles')\n",
        "plt.gca().spines[['top', 'right',]].set_visible(False)"
      ]
    },
    {
      "cell_type": "code",
      "execution_count": null,
      "metadata": {
        "id": "quPTrcuzJ5Jx"
      },
      "outputs": [],
      "source": [
        "# @title prediction\n",
        "\n",
        "from matplotlib import pyplot as plt\n",
        "predictions_pd['prediction'].plot(kind='line', figsize=(8, 4), title='prediction')\n",
        "plt.gca().spines[['top', 'right']].set_visible(False)"
      ]
    },
    {
      "cell_type": "code",
      "execution_count": null,
      "metadata": {
        "id": "m4b5LUhf_w4l"
      },
      "outputs": [],
      "source": []
    },
    {
      "cell_type": "code",
      "execution_count": null,
      "metadata": {
        "colab": {
          "base_uri": "https://localhost:8080/",
          "height": 565
        },
        "id": "E33-qtr78soO",
        "outputId": "d285fc89-caf8-47f7-a1c4-fc0ba18ae8c1"
      },
      "outputs": [
        {
          "output_type": "display_data",
          "data": {
            "text/plain": [
              "<Figure size 1000x600 with 1 Axes>"
            ],
            "image/png": "[encoded data removed]"
          },
          "metadata": {}
        }
      ],
      "source": [
        "import matplotlib.pyplot as plt\n",
        "plt.figure(figsize=(10, 6))\n",
        "plt.scatter(predictions_pd['PlasticBottles'], predictions_pd['GlassBottles'], label='Données réelles', alpha=0.5)\n",
        "plt.scatter(predictions_pd['PlasticBottles'], predictions_pd['prediction'], label='Prédictions', alpha=0.5)\n",
        "plt.xlabel('PlasticBottles')\n",
        "plt.ylabel('GlassBottles')\n",
        "plt.title('Données réelles et prédictions')\n",
        "plt.legend()\n",
        "plt.show()"
      ]
    },
    {
      "cell_type": "code",
      "execution_count": null,
      "metadata": {
        "colab": {
          "base_uri": "https://localhost:8080/"
        },
        "id": "8bZ4yeJj_zyQ",
        "outputId": "d6ccc548-887c-4e32-a7e2-e2e59105ddbc"
      },
      "outputs": [
        {
          "output_type": "stream",
          "name": "stdout",
          "text": [
            "root\n",
            " |-- ID: string (nullable = true)\n",
            " |-- Name: string (nullable = true)\n",
            " |-- Dumpster: integer (nullable = true)\n",
            " |-- Month: string (nullable = true)\n",
            " |-- Year: integer (nullable = true)\n",
            " |-- Date: string (nullable = true)\n",
            " |-- Weight: double (nullable = true)\n",
            " |-- Volume: integer (nullable = true)\n",
            " |-- PlasticBottles: double (nullable = true)\n",
            " |-- Polystyrene: double (nullable = true)\n",
            " |-- CigaretteButts: double (nullable = true)\n",
            " |-- GlassBottles: double (nullable = true)\n",
            " |-- PlasticBags: double (nullable = true)\n",
            " |-- Wrappers: double (nullable = true)\n",
            " |-- SportsBalls: double (nullable = true)\n",
            " |-- HomesPowered: integer (nullable = true)\n",
            " |-- features: vector (nullable = true)\n",
            " |-- prediction: double (nullable = false)\n",
            "\n"
          ]
        }
      ],
      "source": [
        "predictions.printSchema()\n"
      ]
    },
    {
      "cell_type": "code",
      "execution_count": null,
      "metadata": {
        "id": "B_fcik6bA8I0"
      },
      "outputs": [],
      "source": [
        "predictions_pd = predictions.select(\"PlasticBottles\", \"GlassBottles\", \"prediction\").toPandas()\n"
      ]
    },
    {
      "cell_type": "code",
      "source": [
        "from google.colab import auth\n",
        "auth.authenticate_user()\n"
      ],
      "metadata": {
        "id": "-8pMak4qW37-"
      },
      "execution_count": null,
      "outputs": []
    },
    {
      "cell_type": "code",
      "source": [
        "!git config --global user.email \"ameladalet772@gmail.com\"\n",
        "!git config --global user.name \"amel\"\n"
      ],
      "metadata": {
        "id": "C78sd5P5XJ3L"
      },
      "execution_count": null,
      "outputs": []
    },
    {
      "cell_type": "code",
      "source": [
        "!git clone https://github.com/Adalette/mini-projet.git"
      ],
      "metadata": {
        "colab": {
          "base_uri": "https://localhost:8080/"
        },
        "id": "ySww00LpXTCA",
        "outputId": "53572a25-2592-44bf-fb78-0890f4afa5cd"
      },
      "execution_count": null,
      "outputs": [
        {
          "output_type": "stream",
          "name": "stdout",
          "text": [
            "fatal: destination path 'mini-projet' already exists and is not an empty directory.\n"
          ]
        }
      ]
    },
    {
      "cell_type": "code",
      "source": [
        "!ls /content\n"
      ],
      "metadata": {
        "colab": {
          "base_uri": "https://localhost:8080/"
        },
        "id": "s0NZDkUchN8s",
        "outputId": "a9af7ff7-641c-462c-c274-36ebc368a07e"
      },
      "execution_count": null,
      "outputs": [
        {
          "output_type": "stream",
          "name": "stdout",
          "text": [
            "mini-projet  sample_data  trashwheel.csv\n"
          ]
        }
      ]
    },
    {
      "cell_type": "code",
      "source": [
        "!git clone https://github.com/Adalette/mini-projet  sample_data  trashwheel.csv.git\n"
      ],
      "metadata": {
        "colab": {
          "base_uri": "https://localhost:8080/"
        },
        "id": "D4TtGnKAbSRS",
        "outputId": "4491d925-d9b9-4ad5-eb10-c807537eab09"
      },
      "execution_count": null,
      "outputs": [
        {
          "output_type": "stream",
          "name": "stdout",
          "text": [
            "fatal: Too many arguments.\n",
            "\n",
            "usage: git clone [<options>] [--] <repo> [<dir>]\n",
            "\n",
            "    -v, --verbose         be more verbose\n",
            "    -q, --quiet           be more quiet\n",
            "    --progress            force progress reporting\n",
            "    --reject-shallow      don't clone shallow repository\n",
            "    -n, --no-checkout     don't create a checkout\n",
            "    --bare                create a bare repository\n",
            "    --mirror              create a mirror repository (implies bare)\n",
            "    -l, --local           to clone from a local repository\n",
            "    --no-hardlinks        don't use local hardlinks, always copy\n",
            "    -s, --shared          setup as shared repository\n",
            "    --recurse-submodules[=<pathspec>]\n",
            "                          initialize submodules in the clone\n",
            "    --recursive ...       alias of --recurse-submodules\n",
            "    -j, --jobs <n>        number of submodules cloned in parallel\n",
            "    --template <template-directory>\n",
            "                          directory from which templates will be used\n",
            "    --reference <repo>    reference repository\n",
            "    --reference-if-able <repo>\n",
            "                          reference repository\n",
            "    --dissociate          use --reference only while cloning\n",
            "    -o, --origin <name>   use <name> instead of 'origin' to track upstream\n",
            "    -b, --branch <branch>\n",
            "                          checkout <branch> instead of the remote's HEAD\n",
            "    -u, --upload-pack <path>\n",
            "                          path to git-upload-pack on the remote\n",
            "    --depth <depth>       create a shallow clone of that depth\n",
            "    --shallow-since <time>\n",
            "                          create a shallow clone since a specific time\n",
            "    --shallow-exclude <revision>\n",
            "                          deepen history of shallow clone, excluding rev\n",
            "    --single-branch       clone only one branch, HEAD or --branch\n",
            "    --no-tags             don't clone any tags, and make later fetches not to follow them\n",
            "    --shallow-submodules  any cloned submodules will be shallow\n",
            "    --separate-git-dir <gitdir>\n",
            "                          separate git dir from working tree\n",
            "    -c, --config <key=value>\n",
            "                          set config inside the new repository\n",
            "    --server-option <server-specific>\n",
            "                          option to transmit\n",
            "    -4, --ipv4            use IPv4 addresses only\n",
            "    -6, --ipv6            use IPv6 addresses only\n",
            "    --filter <args>       object filtering\n",
            "    --remote-submodules   any cloned submodules will use their remote-tracking branch\n",
            "    --sparse              initialize sparse-checkout file to include only files at root\n",
            "\n"
          ]
        }
      ]
    },
    {
      "cell_type": "code",
      "source": [
        "!ls /content/\n",
        "\n",
        "\n"
      ],
      "metadata": {
        "colab": {
          "base_uri": "https://localhost:8080/"
        },
        "id": "-4m2qYtXYJbZ",
        "outputId": "bdb835dc-b6e0-4cfe-bcfc-4973bb3c12a0"
      },
      "execution_count": null,
      "outputs": [
        {
          "output_type": "stream",
          "name": "stdout",
          "text": [
            "sample_data\n"
          ]
        }
      ]
    }
  ],
  "metadata": {
    "colab": {
      "provenance": []
    },
    "kernelspec": {
      "display_name": "Python 3",
      "name": "python3"
    },
    "language_info": {
      "name": "python"
    }
  },
  "nbformat": 4,
  "nbformat_minor": 0
}